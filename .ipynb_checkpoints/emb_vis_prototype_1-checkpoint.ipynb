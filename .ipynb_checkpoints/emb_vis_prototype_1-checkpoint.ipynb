{
 "cells": [
  {
   "cell_type": "markdown",
   "metadata": {},
   "source": [
    "# Embedding Visualization Prototype 1"
   ]
  },
  {
   "cell_type": "code",
   "execution_count": null,
   "metadata": {},
   "outputs": [],
   "source": [
    "import os\n",
    "import numpy as np\n",
    "from torchvision import datasets\n",
    "import torch\n",
    "from torchvision import transforms\n",
    "from tensorboardX import SummaryWriter"
   ]
  },
  {
   "cell_type": "code",
   "execution_count": null,
   "metadata": {},
   "outputs": [],
   "source": [
    "EMB_FOLDER = './emb_vec' # specify the location of folder that contains given embeddings in .npy format\n",
    "TRAIN_FILE = 'tensorboard_logs_lnew_with_spread_a_lc_1.0_a_spread_0.5_temp_0.9_train_embeddings_final.npy'\n",
    "TEST_FILE = 'tensorboard_logs_lnew_with_spread_a_lc_1.0_a_spread_0.5_temp_0.9_test_embeddings_final.npy'\n",
    "LOG_DIR = './log_tensorboard'"
   ]
  },
  {
   "cell_type": "code",
   "execution_count": null,
   "metadata": {},
   "outputs": [],
   "source": [
    "# loading CIFAR10 datasets\n",
    "transformer = transforms.Compose([\n",
    "    transforms.ToTensor()\n",
    "])\n",
    "trainset = datasets.CIFAR10(root='./data/train', transform=transformer, train=True, download=True)\n",
    "testset = datasets.CIFAR10(root='./data/test', train=False, transform=transformer, download=True)\n",
    "\n",
    "trainloader = torch.utils.data.DataLoader(trainset, batch_size=32, shuffle=False, num_workers=0)\n",
    "testloader = torch.utils.data.DataLoader(testset, batch_size=32, shuffle=False, num_workers=0)"
   ]
  },
  {
   "cell_type": "markdown",
   "metadata": {},
   "source": [
    "### Embedding Visualization of Testing Set "
   ]
  },
  {
   "cell_type": "code",
   "execution_count": null,
   "metadata": {},
   "outputs": [],
   "source": [
    "# retrieving images of test dataset (in order) from CIFAR10\n",
    "all_labels_test = []\n",
    "all_images_test = []\n",
    "for images, labels in testloader:\n",
    "    all_images_test.append(images)\n",
    "    all_labels_test.append(labels)\n",
    "all_labels_test = torch.cat(all_labels_test)\n",
    "all_images_test = torch.cat(all_images_test)\n",
    "all_images_test.shape"
   ]
  },
  {
   "cell_type": "code",
   "execution_count": null,
   "metadata": {},
   "outputs": [],
   "source": [
    "# loading given test sample embeddings\n",
    "all_emb_test = np.load(os.path.join(EMB_FOLDER, TEST_FILE))\n",
    "all_emb_test = torch.Tensor(all_emb_test)\n",
    "all_emb_test.shape"
   ]
  },
  {
   "cell_type": "code",
   "execution_count": null,
   "metadata": {},
   "outputs": [],
   "source": [
    "# adding embeddings to tensorboard writer\n",
    "writer = SummaryWriter(logdir=LOG_DIR)\n",
    "writer.add_embedding(all_emb_test, label_img = all_images_test)\n",
    "writer.close()"
   ]
  },
  {
   "cell_type": "markdown",
   "metadata": {},
   "source": [
    "Recommended Procedure:\n",
    "(1) open your terminal\n",
    "(2) navigate to the location of your jupyter notebook\n",
    "(3) execute tensorboard --logdir=LOG_DIR[2:] \n",
    "(4) open browser with specified localhost\n",
    "\n",
    "Note: when you are using the browser and you have tensorboard open, you might have to press on the application's refresh button in order to see the projections."
   ]
  },
  {
   "cell_type": "markdown",
   "metadata": {},
   "source": [
    "On the bottom left, you can select how you want to visualize the embeddings (this might take a while). Also, when you click on a sample in the space you can see its nearest neighbors on the right."
   ]
  },
  {
   "cell_type": "markdown",
   "metadata": {},
   "source": [
    "### Embedding Visualization of Training Set"
   ]
  },
  {
   "cell_type": "code",
   "execution_count": null,
   "metadata": {},
   "outputs": [],
   "source": [
    "# retrieving images of training dataset (in order) from CIFAR10\n",
    "all_labels_train = []\n",
    "all_images_train = []\n",
    "for images, labels in trainloader:\n",
    "    all_images_train.append(images)\n",
    "    all_labels_train.append(labels)\n",
    "all_labels_train = torch.cat(all_labels_train)\n",
    "all_images_train = torch.cat(all_images_train)\n",
    "all_images_train.shape"
   ]
  },
  {
   "cell_type": "code",
   "execution_count": null,
   "metadata": {},
   "outputs": [],
   "source": [
    "# loading given train sample embeddings\n",
    "all_emb_train = np.load(os.path.join(EMB_FOLDER, TRAIN_FILE))\n",
    "all_emb_train = torch.Tensor(all_emb_train)\n",
    "all_emb_train.shape"
   ]
  },
  {
   "cell_type": "code",
   "execution_count": null,
   "metadata": {},
   "outputs": [],
   "source": [
    "# adding embeddings to tensorboard writer\n",
    "writer = SummaryWriter(logdir=LOG_DIR)\n",
    "writer.add_embedding(all_emb_train, label_img = all_images_train)\n",
    "writer.close()"
   ]
  },
  {
   "cell_type": "markdown",
   "metadata": {},
   "source": [
    "Recommended Procedure:\n",
    "(1) open your terminal\n",
    "(2) navigate to the location of your jupyter notebook\n",
    "(3) execute tensorboard --logdir=LOG_DIR[2:] \n",
    "(4) open browser with specified localhost\n",
    "\n",
    "Note: when you are using the browser and you have tensorboard open, you might have to press on the application's refresh button in order to see the projections."
   ]
  },
  {
   "cell_type": "markdown",
   "metadata": {},
   "source": [
    "On the bottom left, you can select how you want to visualize the embeddings (this might take a while). Also, when you click on a sample in the space you can see its nearest neighbors on the right."
   ]
  }
 ],
 "metadata": {
  "kernelspec": {
   "display_name": "Python 3",
   "language": "python",
   "name": "python3"
  },
  "language_info": {
   "codemirror_mode": {
    "name": "ipython",
    "version": 3
   },
   "file_extension": ".py",
   "mimetype": "text/x-python",
   "name": "python",
   "nbconvert_exporter": "python",
   "pygments_lexer": "ipython3",
   "version": "3.7.7"
  }
 },
 "nbformat": 4,
 "nbformat_minor": 4
}
